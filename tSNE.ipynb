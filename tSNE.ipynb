{
 "cells": [
  {
   "cell_type": "markdown",
   "metadata": {},
   "source": [
    "# tSNE"
   ]
  },
  {
   "cell_type": "code",
   "execution_count": 1,
   "metadata": {
    "collapsed": false
   },
   "outputs": [],
   "source": [
    "import os\n",
    "import pandas as pd\n",
    "from sklearn import manifold"
   ]
  },
  {
   "cell_type": "code",
   "execution_count": 2,
   "metadata": {
    "collapsed": false
   },
   "outputs": [
    {
     "data": {
      "text/html": [
       "<div>\n",
       "<table border=\"1\" class=\"dataframe\">\n",
       "  <thead>\n",
       "    <tr style=\"text-align: right;\">\n",
       "      <th></th>\n",
       "      <th>1</th>\n",
       "      <th>2</th>\n",
       "      <th>3</th>\n",
       "      <th>4</th>\n",
       "      <th>5</th>\n",
       "      <th>6</th>\n",
       "      <th>7</th>\n",
       "      <th>8</th>\n",
       "      <th>9</th>\n",
       "      <th>10</th>\n",
       "      <th>...</th>\n",
       "      <th>91</th>\n",
       "      <th>92</th>\n",
       "      <th>93</th>\n",
       "      <th>94</th>\n",
       "      <th>95</th>\n",
       "      <th>96</th>\n",
       "      <th>97</th>\n",
       "      <th>98</th>\n",
       "      <th>99</th>\n",
       "      <th>100</th>\n",
       "    </tr>\n",
       "  </thead>\n",
       "  <tbody>\n",
       "    <tr>\n",
       "      <th>7796806090_R04C01</th>\n",
       "      <td>0.124320</td>\n",
       "      <td>0.838770</td>\n",
       "      <td>4.737876</td>\n",
       "      <td>0.340383</td>\n",
       "      <td>0.000000</td>\n",
       "      <td>1.647174</td>\n",
       "      <td>2.034410</td>\n",
       "      <td>1.449444</td>\n",
       "      <td>0.304805</td>\n",
       "      <td>0.084453</td>\n",
       "      <td>...</td>\n",
       "      <td>0.000000</td>\n",
       "      <td>0.183515</td>\n",
       "      <td>0.0</td>\n",
       "      <td>0.0</td>\n",
       "      <td>0.000000</td>\n",
       "      <td>0.103202</td>\n",
       "      <td>0.0</td>\n",
       "      <td>2.077231</td>\n",
       "      <td>0.000000</td>\n",
       "      <td>0.0</td>\n",
       "    </tr>\n",
       "    <tr>\n",
       "      <th>6285633051_R04C01</th>\n",
       "      <td>1.148294</td>\n",
       "      <td>1.759616</td>\n",
       "      <td>4.312160</td>\n",
       "      <td>1.422947</td>\n",
       "      <td>0.034192</td>\n",
       "      <td>0.983252</td>\n",
       "      <td>1.417705</td>\n",
       "      <td>1.806069</td>\n",
       "      <td>1.258017</td>\n",
       "      <td>1.456273</td>\n",
       "      <td>...</td>\n",
       "      <td>0.033338</td>\n",
       "      <td>0.090839</td>\n",
       "      <td>0.0</td>\n",
       "      <td>0.0</td>\n",
       "      <td>0.184078</td>\n",
       "      <td>0.387220</td>\n",
       "      <td>0.0</td>\n",
       "      <td>1.349058</td>\n",
       "      <td>1.176459</td>\n",
       "      <td>0.0</td>\n",
       "    </tr>\n",
       "  </tbody>\n",
       "</table>\n",
       "<p>2 rows × 100 columns</p>\n",
       "</div>"
      ],
      "text/plain": [
       "                          1         2         3         4         5         6  \\\n",
       "7796806090_R04C01  0.124320  0.838770  4.737876  0.340383  0.000000  1.647174   \n",
       "6285633051_R04C01  1.148294  1.759616  4.312160  1.422947  0.034192  0.983252   \n",
       "\n",
       "                          7         8         9        10 ...         91  \\\n",
       "7796806090_R04C01  2.034410  1.449444  0.304805  0.084453 ...   0.000000   \n",
       "6285633051_R04C01  1.417705  1.806069  1.258017  1.456273 ...   0.033338   \n",
       "\n",
       "                         92   93   94        95        96   97        98  \\\n",
       "7796806090_R04C01  0.183515  0.0  0.0  0.000000  0.103202  0.0  2.077231   \n",
       "6285633051_R04C01  0.090839  0.0  0.0  0.184078  0.387220  0.0  1.349058   \n",
       "\n",
       "                         99  100  \n",
       "7796806090_R04C01  0.000000  0.0  \n",
       "6285633051_R04C01  1.176459  0.0  \n",
       "\n",
       "[2 rows x 100 columns]"
      ]
     },
     "execution_count": 2,
     "metadata": {},
     "output_type": "execute_result"
    }
   ],
   "source": [
    "# Load VAE feature activations per sample\n",
    "encoded_file = os.path.join('data', 'encoded_methyl_onehidden_warmup_batchnorm_300K-100.tsv')\n",
    "encoded_df = pd.read_table(encoded_file, index_col=0)\n",
    "encoded_df.head(2)"
   ]
  },
  {
   "cell_type": "code",
   "execution_count": 8,
   "metadata": {
    "collapsed": false
   },
   "outputs": [
    {
     "name": "stdout",
     "output_type": "stream",
     "text": [
      "(862, 300000)\n"
     ]
    }
   ],
   "source": [
    "# Load Zero-One transformed (min-max scaled) methylation data\n",
    "methyl_file = os.path.join('data', 'TCGA_BRCA_top300kMAD_cpg.tsv')\n",
    "# methyl_df = pd.read_table(methyl_file, index_col=0)\n",
    "print(methyl_df.shape)\n",
    "methyl_df.head(2)\n",
    "methyl_df2 = methyl_df"
   ]
  },
  {
   "cell_type": "code",
   "execution_count": 5,
   "metadata": {
    "collapsed": false
   },
   "outputs": [
    {
     "data": {
      "text/html": [
       "<div>\n",
       "<table border=\"1\" class=\"dataframe\">\n",
       "  <thead>\n",
       "    <tr style=\"text-align: right;\">\n",
       "      <th></th>\n",
       "      <th>1</th>\n",
       "      <th>2</th>\n",
       "    </tr>\n",
       "    <tr>\n",
       "      <th>sample_id</th>\n",
       "      <th></th>\n",
       "      <th></th>\n",
       "    </tr>\n",
       "  </thead>\n",
       "  <tbody>\n",
       "    <tr>\n",
       "      <th>7796806090_R04C01</th>\n",
       "      <td>-6.711664</td>\n",
       "      <td>0.617155</td>\n",
       "    </tr>\n",
       "    <tr>\n",
       "      <th>6285633051_R04C01</th>\n",
       "      <td>-3.045896</td>\n",
       "      <td>-0.775805</td>\n",
       "    </tr>\n",
       "  </tbody>\n",
       "</table>\n",
       "</div>"
      ],
      "text/plain": [
       "                          1         2\n",
       "sample_id                            \n",
       "7796806090_R04C01 -6.711664  0.617155\n",
       "6285633051_R04C01 -3.045896 -0.775805"
      ]
     },
     "execution_count": 5,
     "metadata": {},
     "output_type": "execute_result"
    }
   ],
   "source": [
    "# Perform t-SNE on VAE encoded_features\n",
    "tsne = manifold.TSNE(n_components=2, init='pca', random_state=0, perplexity=20,\n",
    "                     learning_rate=300, n_iter=400)\n",
    "tsne_out = tsne.fit_transform(encoded_df)\n",
    "tsne_out = pd.DataFrame(tsne_out, columns=['1', '2'])\n",
    "tsne_out.index = encoded_df.index\n",
    "tsne_out.index.name = 'sample_id'\n",
    "#tsne_out_file = os.path.join('results', 'vae_tsne_out_100K-10.tsv')\n",
    "#tsne_out_file = os.path.join('results', 'vae_tsne_out_100K-100.tsv')\n",
    "#tsne_out_file = os.path.join('results', 'vae_tsne_out_10K-100.tsv')\n",
    "#tsne_out_file = os.path.join('results', 'vae_tsne_out_300K-1000_2d.tsv')\n",
    "#tsne_out_file = os.path.join('results', 'vae_tsne_out_300K-1000_3d.tsv')\n",
    "tsne_out_file = os.path.join('results', 'vae_tsne_out_300K-100_2d.tsv')\n",
    "#tsne_out_file = os.path.join('results', 'vae_tsne_out_300K-100_3d.tsv')\n",
    "tsne_out.to_csv(tsne_out_file, sep='\\t')\n",
    "tsne_out.head(2)"
   ]
  },
  {
   "cell_type": "code",
   "execution_count": 10,
   "metadata": {
    "collapsed": false
   },
   "outputs": [
    {
     "data": {
      "text/html": [
       "<div>\n",
       "<table border=\"1\" class=\"dataframe\">\n",
       "  <thead>\n",
       "    <tr style=\"text-align: right;\">\n",
       "      <th></th>\n",
       "      <th>1</th>\n",
       "      <th>2</th>\n",
       "    </tr>\n",
       "    <tr>\n",
       "      <th>sample_id</th>\n",
       "      <th></th>\n",
       "      <th></th>\n",
       "    </tr>\n",
       "  </thead>\n",
       "  <tbody>\n",
       "    <tr>\n",
       "      <th>7796806090_R04C01</th>\n",
       "      <td>-33.541227</td>\n",
       "      <td>-12.997292</td>\n",
       "    </tr>\n",
       "    <tr>\n",
       "      <th>6285633051_R04C01</th>\n",
       "      <td>-10.087754</td>\n",
       "      <td>-5.179166</td>\n",
       "    </tr>\n",
       "  </tbody>\n",
       "</table>\n",
       "</div>"
      ],
      "text/plain": [
       "                           1          2\n",
       "sample_id                              \n",
       "7796806090_R04C01 -33.541227 -12.997292\n",
       "6285633051_R04C01 -10.087754  -5.179166"
      ]
     },
     "execution_count": 10,
     "metadata": {},
     "output_type": "execute_result"
    }
   ],
   "source": [
    "# Perform t-SNE on methyl features\n",
    "tsne = manifold.TSNE(n_components=2, init='pca', random_state=0, perplexity=20,\n",
    "                     learning_rate=300, n_iter=400)\n",
    "tsne_out = tsne.fit_transform(methyl_df2)\n",
    "tsne_out = pd.DataFrame(tsne_out, columns=['1', '2'])\n",
    "tsne_out.index = methyl_df2.index\n",
    "tsne_out.index.name = 'sample_id'\n",
    "#tsne_out_file = os.path.join('results', 'methyl_tsne_out_100K.tsv')\n",
    "#tsne_out_file = os.path.join('results', 'methyl_tsne_out_300K.tsv')\n",
    "tsne_out.to_csv(tsne_out_file, sep='\\t')\n",
    "tsne_out.head(2)"
   ]
  },
  {
   "cell_type": "code",
   "execution_count": null,
   "metadata": {
    "collapsed": true
   },
   "outputs": [],
   "source": []
  }
 ],
 "metadata": {
  "kernelspec": {
   "display_name": "Python 3",
   "language": "python",
   "name": "python3"
  },
  "language_info": {
   "codemirror_mode": {
    "name": "ipython",
    "version": 3
   },
   "file_extension": ".py",
   "mimetype": "text/x-python",
   "name": "python",
   "nbconvert_exporter": "python",
   "pygments_lexer": "ipython3",
   "version": "3.5.2"
  }
 },
 "nbformat": 4,
 "nbformat_minor": 2
}
