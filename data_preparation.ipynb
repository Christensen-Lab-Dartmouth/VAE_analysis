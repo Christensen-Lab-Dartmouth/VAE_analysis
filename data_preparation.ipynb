{
 "cells": [
  {
   "cell_type": "code",
   "execution_count": 1,
   "metadata": {
    "collapsed": true
   },
   "outputs": [],
   "source": [
    "import os\n",
    "import requests\n",
    "import numpy as np\n",
    "import pandas as pd\n",
    "\n",
    "from sklearn import preprocessing"
   ]
  },
  {
   "cell_type": "code",
   "execution_count": 2,
   "metadata": {},
   "outputs": [],
   "source": [
    "# Input Files\n",
    "methyl_file = os.path.join('data', 'TCGA_BRCA_Betas.tsv')\n",
    "methyl_df2 = pd.read_table(methyl_file, index_col=0)\n",
    "\n",
    "#methyl_file = os.path.join('data', 'polidoro_normalized_betas.csv?dl=1')\n",
    "#methyl_df2 = pd.read_csv(methyl_file, index_col=0)\n",
    "\n",
    "methyl_df = methyl_df2.T"
   ]
  },
  {
   "cell_type": "code",
   "execution_count": 3,
   "metadata": {},
   "outputs": [
    {
     "name": "stdout",
     "output_type": "stream",
     "text": [
      "(862, 388779)\n"
     ]
    }
   ],
   "source": [
    "print(methyl_df.shape)"
   ]
  },
  {
   "cell_type": "code",
   "execution_count": 4,
   "metadata": {},
   "outputs": [
    {
     "name": "stdout",
     "output_type": "stream",
     "text": [
      "(862, 300000)\n"
     ]
    }
   ],
   "source": [
    "# Determine most variably CpGs and subset\n",
    "num_mad_cpgs = 300000\n",
    "\n",
    "mad_cpgs = methyl_df.mad(axis=0).sort_values(ascending=False)\n",
    "\n",
    "top_mad_cpgs = mad_cpgs.iloc[0:num_mad_cpgs, ].index\n",
    "\n",
    "methyl_subset_df = methyl_df.loc[:, top_mad_cpgs]\n",
    "\n",
    "print(methyl_subset_df.shape)"
   ]
  },
  {
   "cell_type": "code",
   "execution_count": 5,
   "metadata": {
    "collapsed": true
   },
   "outputs": [],
   "source": [
    "methylation_out_file = os.path.join('data', 'TCGA_BRCA_top300kMAD_cpg.tsv')\n",
    "# methylation_out_file = os.path.join('data', 'TCGA_BRCA_top100kMAD_cpg.tsv')\n",
    "# methylation_out_file = os.path.join('data', 'TCGA_BRCA_top10kMAD_cpg.tsv')\n",
    "# methylation_out_file = os.path.join('data', 'polidoro_top100kMAD_cpg.tsv')\n",
    "methyl_subset_df.to_csv(methylation_out_file, sep='\\t')"
   ]
  },
  {
   "cell_type": "code",
   "execution_count": 6,
   "metadata": {},
   "outputs": [
    {
     "name": "stdout",
     "output_type": "stream",
     "text": [
      "(862, 300000)\n"
     ]
    }
   ],
   "source": [
    "print(methyl_subset_df.shape)"
   ]
  },
  {
   "cell_type": "code",
   "execution_count": null,
   "metadata": {
    "collapsed": true
   },
   "outputs": [],
   "source": []
  }
 ],
 "metadata": {
  "kernelspec": {
   "display_name": "Python 3",
   "language": "python",
   "name": "python3"
  },
  "language_info": {
   "codemirror_mode": {
    "name": "ipython",
    "version": 3
   },
   "file_extension": ".py",
   "mimetype": "text/x-python",
   "name": "python",
   "nbconvert_exporter": "python",
   "pygments_lexer": "ipython3",
   "version": "3.6.3"
  }
 },
 "nbformat": 4,
 "nbformat_minor": 2
}
