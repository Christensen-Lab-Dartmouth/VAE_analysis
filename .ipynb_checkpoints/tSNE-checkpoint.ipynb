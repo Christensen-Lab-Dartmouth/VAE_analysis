{
 "cells": [
  {
   "cell_type": "markdown",
   "metadata": {},
   "source": [
    "# tSNE"
   ]
  },
  {
   "cell_type": "code",
   "execution_count": 19,
   "metadata": {
    "collapsed": true
   },
   "outputs": [],
   "source": [
    "import os\n",
    "import pandas as pd\n",
    "from sklearn import manifold"
   ]
  },
  {
   "cell_type": "code",
   "execution_count": 28,
   "metadata": {},
   "outputs": [
    {
     "data": {
      "text/html": [
       "<div>\n",
       "<style>\n",
       "    .dataframe thead tr:only-child th {\n",
       "        text-align: right;\n",
       "    }\n",
       "\n",
       "    .dataframe thead th {\n",
       "        text-align: left;\n",
       "    }\n",
       "\n",
       "    .dataframe tbody tr th {\n",
       "        vertical-align: top;\n",
       "    }\n",
       "</style>\n",
       "<table border=\"1\" class=\"dataframe\">\n",
       "  <thead>\n",
       "    <tr style=\"text-align: right;\">\n",
       "      <th></th>\n",
       "      <th>1</th>\n",
       "      <th>2</th>\n",
       "      <th>3</th>\n",
       "      <th>4</th>\n",
       "      <th>5</th>\n",
       "      <th>6</th>\n",
       "      <th>7</th>\n",
       "      <th>8</th>\n",
       "      <th>9</th>\n",
       "      <th>10</th>\n",
       "      <th>...</th>\n",
       "      <th>91</th>\n",
       "      <th>92</th>\n",
       "      <th>93</th>\n",
       "      <th>94</th>\n",
       "      <th>95</th>\n",
       "      <th>96</th>\n",
       "      <th>97</th>\n",
       "      <th>98</th>\n",
       "      <th>99</th>\n",
       "      <th>100</th>\n",
       "    </tr>\n",
       "  </thead>\n",
       "  <tbody>\n",
       "    <tr>\n",
       "      <th>7796806090_R04C01</th>\n",
       "      <td>0.588472</td>\n",
       "      <td>0.0</td>\n",
       "      <td>0.000000</td>\n",
       "      <td>0.291811</td>\n",
       "      <td>1.533764</td>\n",
       "      <td>0.378847</td>\n",
       "      <td>0.765657</td>\n",
       "      <td>0.0</td>\n",
       "      <td>1.585387</td>\n",
       "      <td>1.894962</td>\n",
       "      <td>...</td>\n",
       "      <td>0.00000</td>\n",
       "      <td>0.109457</td>\n",
       "      <td>1.835179</td>\n",
       "      <td>2.652886</td>\n",
       "      <td>0.000000</td>\n",
       "      <td>0.000000</td>\n",
       "      <td>0.0</td>\n",
       "      <td>1.409629</td>\n",
       "      <td>0.420136</td>\n",
       "      <td>1.044989</td>\n",
       "    </tr>\n",
       "    <tr>\n",
       "      <th>6285633051_R04C01</th>\n",
       "      <td>0.000000</td>\n",
       "      <td>0.0</td>\n",
       "      <td>0.520279</td>\n",
       "      <td>0.000000</td>\n",
       "      <td>0.876102</td>\n",
       "      <td>0.000000</td>\n",
       "      <td>0.000000</td>\n",
       "      <td>0.0</td>\n",
       "      <td>0.000000</td>\n",
       "      <td>0.447487</td>\n",
       "      <td>...</td>\n",
       "      <td>0.67296</td>\n",
       "      <td>0.000000</td>\n",
       "      <td>0.939710</td>\n",
       "      <td>1.538189</td>\n",
       "      <td>0.489965</td>\n",
       "      <td>0.535403</td>\n",
       "      <td>0.0</td>\n",
       "      <td>0.384011</td>\n",
       "      <td>0.563431</td>\n",
       "      <td>0.949218</td>\n",
       "    </tr>\n",
       "  </tbody>\n",
       "</table>\n",
       "<p>2 rows × 100 columns</p>\n",
       "</div>"
      ],
      "text/plain": [
       "                          1    2         3         4         5         6  \\\n",
       "7796806090_R04C01  0.588472  0.0  0.000000  0.291811  1.533764  0.378847   \n",
       "6285633051_R04C01  0.000000  0.0  0.520279  0.000000  0.876102  0.000000   \n",
       "\n",
       "                          7    8         9        10    ...          91  \\\n",
       "7796806090_R04C01  0.765657  0.0  1.585387  1.894962    ...     0.00000   \n",
       "6285633051_R04C01  0.000000  0.0  0.000000  0.447487    ...     0.67296   \n",
       "\n",
       "                         92        93        94        95        96   97  \\\n",
       "7796806090_R04C01  0.109457  1.835179  2.652886  0.000000  0.000000  0.0   \n",
       "6285633051_R04C01  0.000000  0.939710  1.538189  0.489965  0.535403  0.0   \n",
       "\n",
       "                         98        99       100  \n",
       "7796806090_R04C01  1.409629  0.420136  1.044989  \n",
       "6285633051_R04C01  0.384011  0.563431  0.949218  \n",
       "\n",
       "[2 rows x 100 columns]"
      ]
     },
     "execution_count": 28,
     "metadata": {},
     "output_type": "execute_result"
    }
   ],
   "source": [
    "# Load VAE feature activations per sample\n",
    "encoded_file = os.path.join('data', 'encoded_methyl_onehidden_warmup_batchnorm_10K-100.tsv')\n",
    "encoded_df = pd.read_table(encoded_file, index_col=0)\n",
    "encoded_df.head(2)"
   ]
  },
  {
   "cell_type": "code",
   "execution_count": 21,
   "metadata": {},
   "outputs": [
    {
     "name": "stdout",
     "output_type": "stream",
     "text": [
      "(862, 100000)\n"
     ]
    }
   ],
   "source": [
    "# Load Zero-One transformed (min-max scaled) RNAseq data\n",
    "methyl_file = os.path.join('data', 'TCGA_BRCA_top100000MAD_cpg.tsv')\n",
    "# methyl_df = pd.read_table(methyl_file, index_col=0)\n",
    "print(methyl_df.shape)\n",
    "methyl_df.head(2)\n",
    "methyl_df2 = methyl_df"
   ]
  },
  {
   "cell_type": "code",
   "execution_count": 29,
   "metadata": {},
   "outputs": [
    {
     "data": {
      "text/html": [
       "<div>\n",
       "<style>\n",
       "    .dataframe thead tr:only-child th {\n",
       "        text-align: right;\n",
       "    }\n",
       "\n",
       "    .dataframe thead th {\n",
       "        text-align: left;\n",
       "    }\n",
       "\n",
       "    .dataframe tbody tr th {\n",
       "        vertical-align: top;\n",
       "    }\n",
       "</style>\n",
       "<table border=\"1\" class=\"dataframe\">\n",
       "  <thead>\n",
       "    <tr style=\"text-align: right;\">\n",
       "      <th></th>\n",
       "      <th>1</th>\n",
       "      <th>2</th>\n",
       "    </tr>\n",
       "    <tr>\n",
       "      <th>sample_id</th>\n",
       "      <th></th>\n",
       "      <th></th>\n",
       "    </tr>\n",
       "  </thead>\n",
       "  <tbody>\n",
       "    <tr>\n",
       "      <th>7796806090_R04C01</th>\n",
       "      <td>6.236495</td>\n",
       "      <td>2.015430</td>\n",
       "    </tr>\n",
       "    <tr>\n",
       "      <th>6285633051_R04C01</th>\n",
       "      <td>1.783892</td>\n",
       "      <td>-0.878865</td>\n",
       "    </tr>\n",
       "  </tbody>\n",
       "</table>\n",
       "</div>"
      ],
      "text/plain": [
       "                          1         2\n",
       "sample_id                            \n",
       "7796806090_R04C01  6.236495  2.015430\n",
       "6285633051_R04C01  1.783892 -0.878865"
      ]
     },
     "execution_count": 29,
     "metadata": {},
     "output_type": "execute_result"
    }
   ],
   "source": [
    "# Perform t-SNE on VAE encoded_features\n",
    "tsne = manifold.TSNE(n_components=2, init='pca', random_state=0, perplexity=20,\n",
    "                     learning_rate=300, n_iter=400)\n",
    "tsne_out = tsne.fit_transform(encoded_df)\n",
    "tsne_out = pd.DataFrame(tsne_out, columns=['1', '2'])\n",
    "tsne_out.index = encoded_df.index\n",
    "tsne_out.index.name = 'sample_id'\n",
    "#tsne_out_file = os.path.join('results', 'vae_tsne_out_100K-10.tsv')\n",
    "#tsne_out_file = os.path.join('results', 'vae_tsne_out_100K-100.tsv')\n",
    "tsne_out_file = os.path.join('results', 'vae_tsne_out_10K-100.tsv')\n",
    "tsne_out.to_csv(tsne_out_file, sep='\\t')\n",
    "tsne_out.head(2)"
   ]
  },
  {
   "cell_type": "code",
   "execution_count": 24,
   "metadata": {},
   "outputs": [
    {
     "data": {
      "text/html": [
       "<div>\n",
       "<style>\n",
       "    .dataframe thead tr:only-child th {\n",
       "        text-align: right;\n",
       "    }\n",
       "\n",
       "    .dataframe thead th {\n",
       "        text-align: left;\n",
       "    }\n",
       "\n",
       "    .dataframe tbody tr th {\n",
       "        vertical-align: top;\n",
       "    }\n",
       "</style>\n",
       "<table border=\"1\" class=\"dataframe\">\n",
       "  <thead>\n",
       "    <tr style=\"text-align: right;\">\n",
       "      <th></th>\n",
       "      <th>1</th>\n",
       "      <th>2</th>\n",
       "    </tr>\n",
       "    <tr>\n",
       "      <th>sample_id</th>\n",
       "      <th></th>\n",
       "      <th></th>\n",
       "    </tr>\n",
       "  </thead>\n",
       "  <tbody>\n",
       "    <tr>\n",
       "      <th>7796806090_R04C01</th>\n",
       "      <td>-30.561666</td>\n",
       "      <td>11.917829</td>\n",
       "    </tr>\n",
       "    <tr>\n",
       "      <th>6285633051_R04C01</th>\n",
       "      <td>-7.308616</td>\n",
       "      <td>1.793495</td>\n",
       "    </tr>\n",
       "  </tbody>\n",
       "</table>\n",
       "</div>"
      ],
      "text/plain": [
       "                           1          2\n",
       "sample_id                              \n",
       "7796806090_R04C01 -30.561666  11.917829\n",
       "6285633051_R04C01  -7.308616   1.793495"
      ]
     },
     "execution_count": 24,
     "metadata": {},
     "output_type": "execute_result"
    }
   ],
   "source": [
    "# Perform t-SNE on methyl features\n",
    "tsne = manifold.TSNE(n_components=2, init='pca', random_state=0, perplexity=20,\n",
    "                     learning_rate=300, n_iter=400)\n",
    "tsne_out = tsne.fit_transform(methyl_df2)\n",
    "tsne_out = pd.DataFrame(tsne_out, columns=['1', '2'])\n",
    "tsne_out.index = methyl_df2.index\n",
    "tsne_out.index.name = 'sample_id'\n",
    "#tsne_out_file = os.path.join('results', 'methyl_tsne_out_100K.tsv')\n",
    "tsne_out.to_csv(tsne_out_file, sep='\\t')\n",
    "tsne_out.head(2)"
   ]
  },
  {
   "cell_type": "code",
   "execution_count": null,
   "metadata": {
    "collapsed": true
   },
   "outputs": [],
   "source": []
  }
 ],
 "metadata": {
  "kernelspec": {
   "display_name": "Python 3",
   "language": "python",
   "name": "python3"
  },
  "language_info": {
   "codemirror_mode": {
    "name": "ipython",
    "version": 3
   },
   "file_extension": ".py",
   "mimetype": "text/x-python",
   "name": "python",
   "nbconvert_exporter": "python",
   "pygments_lexer": "ipython3",
   "version": "3.6.1"
  }
 },
 "nbformat": 4,
 "nbformat_minor": 2
}
