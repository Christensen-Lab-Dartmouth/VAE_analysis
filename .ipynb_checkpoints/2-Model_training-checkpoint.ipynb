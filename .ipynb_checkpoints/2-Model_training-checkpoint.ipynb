{
 "cells": [
  {
   "cell_type": "markdown",
   "metadata": {},
   "source": [
    "## Set up environment"
   ]
  },
  {
   "cell_type": "code",
   "execution_count": 18,
   "metadata": {},
   "outputs": [],
   "source": [
    "import os\n",
    "import numpy as np\n",
    "import pandas as pd\n",
    "import matplotlib.pyplot as plt\n",
    "\n",
    "import tensorflow as tf\n",
    "import keras.backend.tensorflow_backend as KTF\n",
    "from keras.layers import Input, Dense, Lambda, Layer, Activation\n",
    "from keras.layers.normalization import BatchNormalization\n",
    "from keras.models import Model\n",
    "from keras import backend as K\n",
    "from keras import metrics, optimizers\n",
    "from keras.callbacks import Callback\n",
    "import keras\n",
    "\n",
    "import pydot\n",
    "#import graphviz\n",
    "from keras.utils import plot_model\n",
    "from IPython.display import SVG\n",
    "from keras.utils.vis_utils import model_to_dot"
   ]
  },
  {
   "cell_type": "code",
   "execution_count": 19,
   "metadata": {},
   "outputs": [
    {
     "name": "stdout",
     "output_type": "stream",
     "text": [
      "2.1.4\n"
     ]
    },
    {
     "data": {
      "text/plain": [
       "'1.2.1'"
      ]
     },
     "execution_count": 19,
     "metadata": {},
     "output_type": "execute_result"
    }
   ],
   "source": [
    "print(keras.__version__)\n",
    "tf.__version__"
   ]
  },
  {
   "cell_type": "code",
   "execution_count": 3,
   "metadata": {
    "collapsed": true
   },
   "outputs": [],
   "source": [
    "# get a GPU session and reserve memory\n",
    "def get_session(gpu_fraction=0.3):\n",
    "    '''Assume that you have 6GB of GPU memory and want to allocate ~2GB'''\n",
    "\n",
    "    num_threads = os.environ.get('OMP_NUM_THREADS')\n",
    "    gpu_options = tf.GPUOptions(per_process_gpu_memory_fraction=gpu_fraction)\n",
    "\n",
    "    if num_threads:\n",
    "        return tf.Session(config=tf.ConfigProto(\n",
    "            gpu_options=gpu_options, intra_op_parallelism_threads=num_threads))\n",
    "    else:\n",
    "        return tf.Session(config=tf.ConfigProto(gpu_options=gpu_options))\n",
    "\n",
    "KTF.set_session(get_session(.90))"
   ]
  },
  {
   "cell_type": "code",
   "execution_count": 20,
   "metadata": {
    "collapsed": true
   },
   "outputs": [],
   "source": [
    "# Function for reparameterization trick to make model differentiable\n",
    "def sampling(args):\n",
    "    \n",
    "    import tensorflow as tf\n",
    "    # Function with args required for Keras Lambda function\n",
    "    z_mean, z_log_var = args\n",
    "\n",
    "    # Draw epsilon of the same shape from a standard normal distribution\n",
    "    epsilon = K.random_normal(shape=tf.shape(z_mean), mean=0.,\n",
    "                              stddev=epsilon_std)\n",
    "    \n",
    "    # The latent vector is non-deterministic and differentiable\n",
    "    # in respect to z_mean and z_log_var\n",
    "    z = z_mean + K.exp(z_log_var / 2) * epsilon\n",
    "    return z\n",
    "\n",
    "\n",
    "class CustomVariationalLayer(Layer):\n",
    "    \"\"\"\n",
    "    Define a custom layer that learns and performs the training\n",
    "\n",
    "    \"\"\"\n",
    "    def __init__(self, **kwargs):\n",
    "        # https://keras.io/layers/writing-your-own-keras-layers/\n",
    "        self.is_placeholder = True\n",
    "        super(CustomVariationalLayer, self).__init__(**kwargs)\n",
    "\n",
    "    def vae_loss(self, x_input, x_decoded):\n",
    "        reconstruction_loss = original_dim * metrics.binary_crossentropy(x_input, x_decoded)\n",
    "        kl_loss = - 0.5 * K.sum(1 + z_log_var_encoded - K.square(z_mean_encoded) - \n",
    "                                K.exp(z_log_var_encoded), axis=-1)\n",
    "        return K.mean(reconstruction_loss + (K.get_value(beta) * kl_loss))\n",
    "\n",
    "    def call(self, inputs):\n",
    "        x = inputs[0]\n",
    "        x_decoded = inputs[1]\n",
    "        loss = self.vae_loss(x, x_decoded)\n",
    "        self.add_loss(loss, inputs=inputs)\n",
    "        # We won't actually use the output.\n",
    "        return x"
   ]
  },
  {
   "cell_type": "code",
   "execution_count": 21,
   "metadata": {
    "collapsed": true
   },
   "outputs": [],
   "source": [
    "class WarmUpCallback(Callback):\n",
    "    def __init__(self, beta, kappa):\n",
    "        self.beta = beta\n",
    "        self.kappa = kappa\n",
    "    # Behavior on each epoch\n",
    "    def on_epoch_end(self, epoch, logs={}):\n",
    "        if K.get_value(self.beta) <= 1:\n",
    "            K.set_value(self.beta, K.get_value(self.beta) + self.kappa)"
   ]
  },
  {
   "cell_type": "code",
   "execution_count": 22,
   "metadata": {
    "collapsed": true
   },
   "outputs": [],
   "source": [
    "%matplotlib inline\n",
    "plt.style.use('seaborn-notebook')"
   ]
  },
  {
   "cell_type": "code",
   "execution_count": 23,
   "metadata": {
    "collapsed": true
   },
   "outputs": [],
   "source": [
    "np.random.seed(123)"
   ]
  },
  {
   "cell_type": "markdown",
   "metadata": {},
   "source": [
    "# Vars and HPs"
   ]
  },
  {
   "cell_type": "code",
   "execution_count": 30,
   "metadata": {
    "collapsed": true
   },
   "outputs": [],
   "source": [
    "# Set hyper parameters\n",
    "original_dim = 300000\n",
    "latent_dim = 100\n",
    "\n",
    "batch_size = 50\n",
    "epochs = 50\n",
    "learning_rate = 0.0005\n",
    "\n",
    "epsilon_std = 1.0\n",
    "beta = K.variable(0)\n",
    "kappa = 1"
   ]
  },
  {
   "cell_type": "markdown",
   "metadata": {},
   "source": [
    "# Load methylation data"
   ]
  },
  {
   "cell_type": "code",
   "execution_count": 9,
   "metadata": {},
   "outputs": [
    {
     "name": "stdout",
     "output_type": "stream",
     "text": [
      "(862, 300000)\n"
     ]
    },
    {
     "data": {
      "text/html": [
       "<div>\n",
       "<style>\n",
       "    .dataframe thead tr:only-child th {\n",
       "        text-align: right;\n",
       "    }\n",
       "\n",
       "    .dataframe thead th {\n",
       "        text-align: left;\n",
       "    }\n",
       "\n",
       "    .dataframe tbody tr th {\n",
       "        vertical-align: top;\n",
       "    }\n",
       "</style>\n",
       "<table border=\"1\" class=\"dataframe\">\n",
       "  <thead>\n",
       "    <tr style=\"text-align: right;\">\n",
       "      <th></th>\n",
       "      <th>cg16620382</th>\n",
       "      <th>cg27363327</th>\n",
       "      <th>cg01893212</th>\n",
       "      <th>cg17463633</th>\n",
       "      <th>cg01682111</th>\n",
       "      <th>cg27260772</th>\n",
       "      <th>cg17154724</th>\n",
       "      <th>cg13885357</th>\n",
       "      <th>cg07813142</th>\n",
       "      <th>cg20399616</th>\n",
       "      <th>...</th>\n",
       "      <th>cg12439388</th>\n",
       "      <th>cg02310273</th>\n",
       "      <th>cg23337068</th>\n",
       "      <th>cg05227616</th>\n",
       "      <th>cg13581507</th>\n",
       "      <th>cg17716453</th>\n",
       "      <th>cg04868764</th>\n",
       "      <th>cg12670756</th>\n",
       "      <th>cg16674475</th>\n",
       "      <th>cg02696971</th>\n",
       "    </tr>\n",
       "  </thead>\n",
       "  <tbody>\n",
       "    <tr>\n",
       "      <th>7796806090_R04C01</th>\n",
       "      <td>0.055168</td>\n",
       "      <td>0.068544</td>\n",
       "      <td>0.566052</td>\n",
       "      <td>0.920830</td>\n",
       "      <td>0.148795</td>\n",
       "      <td>0.070930</td>\n",
       "      <td>0.637561</td>\n",
       "      <td>0.566779</td>\n",
       "      <td>0.606875</td>\n",
       "      <td>0.622774</td>\n",
       "      <td>...</td>\n",
       "      <td>0.913334</td>\n",
       "      <td>0.910522</td>\n",
       "      <td>0.930061</td>\n",
       "      <td>0.047445</td>\n",
       "      <td>0.143646</td>\n",
       "      <td>0.014610</td>\n",
       "      <td>0.066978</td>\n",
       "      <td>0.056034</td>\n",
       "      <td>0.953544</td>\n",
       "      <td>0.906814</td>\n",
       "    </tr>\n",
       "    <tr>\n",
       "      <th>6285633051_R04C01</th>\n",
       "      <td>0.137893</td>\n",
       "      <td>0.074701</td>\n",
       "      <td>0.626088</td>\n",
       "      <td>0.318388</td>\n",
       "      <td>0.819280</td>\n",
       "      <td>0.173150</td>\n",
       "      <td>0.618894</td>\n",
       "      <td>0.387909</td>\n",
       "      <td>0.429214</td>\n",
       "      <td>0.506081</td>\n",
       "      <td>...</td>\n",
       "      <td>0.941507</td>\n",
       "      <td>0.907734</td>\n",
       "      <td>0.918301</td>\n",
       "      <td>0.044297</td>\n",
       "      <td>0.119243</td>\n",
       "      <td>0.012247</td>\n",
       "      <td>0.068399</td>\n",
       "      <td>0.082936</td>\n",
       "      <td>0.961145</td>\n",
       "      <td>0.898146</td>\n",
       "    </tr>\n",
       "    <tr>\n",
       "      <th>9993943017_R04C02</th>\n",
       "      <td>0.591397</td>\n",
       "      <td>0.289356</td>\n",
       "      <td>0.215336</td>\n",
       "      <td>0.482832</td>\n",
       "      <td>0.650826</td>\n",
       "      <td>0.047947</td>\n",
       "      <td>0.613534</td>\n",
       "      <td>0.231326</td>\n",
       "      <td>0.062284</td>\n",
       "      <td>0.715812</td>\n",
       "      <td>...</td>\n",
       "      <td>0.891870</td>\n",
       "      <td>0.907416</td>\n",
       "      <td>0.876772</td>\n",
       "      <td>0.046259</td>\n",
       "      <td>0.122555</td>\n",
       "      <td>0.022389</td>\n",
       "      <td>0.058038</td>\n",
       "      <td>0.110625</td>\n",
       "      <td>0.875639</td>\n",
       "      <td>0.865706</td>\n",
       "    </tr>\n",
       "    <tr>\n",
       "      <th>7796806090_R03C01</th>\n",
       "      <td>0.027590</td>\n",
       "      <td>0.042454</td>\n",
       "      <td>0.026760</td>\n",
       "      <td>0.931495</td>\n",
       "      <td>0.035875</td>\n",
       "      <td>0.917678</td>\n",
       "      <td>0.018935</td>\n",
       "      <td>0.429940</td>\n",
       "      <td>0.026646</td>\n",
       "      <td>0.026751</td>\n",
       "      <td>...</td>\n",
       "      <td>0.911154</td>\n",
       "      <td>0.918988</td>\n",
       "      <td>0.922758</td>\n",
       "      <td>0.044816</td>\n",
       "      <td>0.118310</td>\n",
       "      <td>0.011996</td>\n",
       "      <td>0.081457</td>\n",
       "      <td>0.072075</td>\n",
       "      <td>0.950406</td>\n",
       "      <td>0.897170</td>\n",
       "    </tr>\n",
       "    <tr>\n",
       "      <th>3999997079_R01C02</th>\n",
       "      <td>0.063119</td>\n",
       "      <td>0.070341</td>\n",
       "      <td>0.789728</td>\n",
       "      <td>0.083000</td>\n",
       "      <td>0.450423</td>\n",
       "      <td>0.031449</td>\n",
       "      <td>0.916007</td>\n",
       "      <td>0.121966</td>\n",
       "      <td>0.029224</td>\n",
       "      <td>0.014501</td>\n",
       "      <td>...</td>\n",
       "      <td>0.893443</td>\n",
       "      <td>0.927593</td>\n",
       "      <td>0.933655</td>\n",
       "      <td>0.027989</td>\n",
       "      <td>0.084445</td>\n",
       "      <td>0.010027</td>\n",
       "      <td>0.033802</td>\n",
       "      <td>0.066549</td>\n",
       "      <td>0.951092</td>\n",
       "      <td>0.920060</td>\n",
       "    </tr>\n",
       "  </tbody>\n",
       "</table>\n",
       "<p>5 rows × 300000 columns</p>\n",
       "</div>"
      ],
      "text/plain": [
       "                   cg16620382  cg27363327  cg01893212  cg17463633  cg01682111  \\\n",
       "7796806090_R04C01    0.055168    0.068544    0.566052    0.920830    0.148795   \n",
       "6285633051_R04C01    0.137893    0.074701    0.626088    0.318388    0.819280   \n",
       "9993943017_R04C02    0.591397    0.289356    0.215336    0.482832    0.650826   \n",
       "7796806090_R03C01    0.027590    0.042454    0.026760    0.931495    0.035875   \n",
       "3999997079_R01C02    0.063119    0.070341    0.789728    0.083000    0.450423   \n",
       "\n",
       "                   cg27260772  cg17154724  cg13885357  cg07813142  cg20399616  \\\n",
       "7796806090_R04C01    0.070930    0.637561    0.566779    0.606875    0.622774   \n",
       "6285633051_R04C01    0.173150    0.618894    0.387909    0.429214    0.506081   \n",
       "9993943017_R04C02    0.047947    0.613534    0.231326    0.062284    0.715812   \n",
       "7796806090_R03C01    0.917678    0.018935    0.429940    0.026646    0.026751   \n",
       "3999997079_R01C02    0.031449    0.916007    0.121966    0.029224    0.014501   \n",
       "\n",
       "                      ...      cg12439388  cg02310273  cg23337068  cg05227616  \\\n",
       "7796806090_R04C01     ...        0.913334    0.910522    0.930061    0.047445   \n",
       "6285633051_R04C01     ...        0.941507    0.907734    0.918301    0.044297   \n",
       "9993943017_R04C02     ...        0.891870    0.907416    0.876772    0.046259   \n",
       "7796806090_R03C01     ...        0.911154    0.918988    0.922758    0.044816   \n",
       "3999997079_R01C02     ...        0.893443    0.927593    0.933655    0.027989   \n",
       "\n",
       "                   cg13581507  cg17716453  cg04868764  cg12670756  cg16674475  \\\n",
       "7796806090_R04C01    0.143646    0.014610    0.066978    0.056034    0.953544   \n",
       "6285633051_R04C01    0.119243    0.012247    0.068399    0.082936    0.961145   \n",
       "9993943017_R04C02    0.122555    0.022389    0.058038    0.110625    0.875639   \n",
       "7796806090_R03C01    0.118310    0.011996    0.081457    0.072075    0.950406   \n",
       "3999997079_R01C02    0.084445    0.010027    0.033802    0.066549    0.951092   \n",
       "\n",
       "                   cg02696971  \n",
       "7796806090_R04C01    0.906814  \n",
       "6285633051_R04C01    0.898146  \n",
       "9993943017_R04C02    0.865706  \n",
       "7796806090_R03C01    0.897170  \n",
       "3999997079_R01C02    0.920060  \n",
       "\n",
       "[5 rows x 300000 columns]"
      ]
     },
     "execution_count": 9,
     "metadata": {},
     "output_type": "execute_result"
    }
   ],
   "source": [
    "methyl_file = os.path.join('data', 'TCGA_BRCA_top300kMAD_cpg.tsv')\n",
    "methyl_df = pd.read_table(methyl_file, index_col=0)\n",
    "print(methyl_df.shape)\n",
    "methyl_df.head(5)"
   ]
  },
  {
   "cell_type": "code",
   "execution_count": 10,
   "metadata": {},
   "outputs": [
    {
     "name": "stdout",
     "output_type": "stream",
     "text": [
      "(862, 300000)\n"
     ]
    },
    {
     "data": {
      "text/html": [
       "<div>\n",
       "<style>\n",
       "    .dataframe thead tr:only-child th {\n",
       "        text-align: right;\n",
       "    }\n",
       "\n",
       "    .dataframe thead th {\n",
       "        text-align: left;\n",
       "    }\n",
       "\n",
       "    .dataframe tbody tr th {\n",
       "        vertical-align: top;\n",
       "    }\n",
       "</style>\n",
       "<table border=\"1\" class=\"dataframe\">\n",
       "  <thead>\n",
       "    <tr style=\"text-align: right;\">\n",
       "      <th></th>\n",
       "      <th>cg00122254</th>\n",
       "      <th>cg07950803</th>\n",
       "      <th>cg06020352</th>\n",
       "      <th>cg00014104</th>\n",
       "      <th>cg04108240</th>\n",
       "      <th>cg19537719</th>\n",
       "      <th>cg11461670</th>\n",
       "      <th>cg26282887</th>\n",
       "      <th>cg18552413</th>\n",
       "      <th>cg05595753</th>\n",
       "      <th>...</th>\n",
       "      <th>cg22089024</th>\n",
       "      <th>cg23289779</th>\n",
       "      <th>cg01870834</th>\n",
       "      <th>cg00901843</th>\n",
       "      <th>cg25934198</th>\n",
       "      <th>cg13688262</th>\n",
       "      <th>cg14428878</th>\n",
       "      <th>cg18131582</th>\n",
       "      <th>cg12917938</th>\n",
       "      <th>cg06904956</th>\n",
       "    </tr>\n",
       "  </thead>\n",
       "  <tbody>\n",
       "    <tr>\n",
       "      <th>7796806090_R04C01</th>\n",
       "      <td>0.046660</td>\n",
       "      <td>0.897248</td>\n",
       "      <td>0.652521</td>\n",
       "      <td>0.471406</td>\n",
       "      <td>0.775688</td>\n",
       "      <td>0.495734</td>\n",
       "      <td>0.438540</td>\n",
       "      <td>0.510294</td>\n",
       "      <td>0.561539</td>\n",
       "      <td>0.768544</td>\n",
       "      <td>...</td>\n",
       "      <td>0.060164</td>\n",
       "      <td>0.723294</td>\n",
       "      <td>0.398821</td>\n",
       "      <td>0.503005</td>\n",
       "      <td>0.702736</td>\n",
       "      <td>0.774951</td>\n",
       "      <td>0.841170</td>\n",
       "      <td>0.559773</td>\n",
       "      <td>0.806210</td>\n",
       "      <td>0.840528</td>\n",
       "    </tr>\n",
       "    <tr>\n",
       "      <th>6285633051_R04C01</th>\n",
       "      <td>0.058873</td>\n",
       "      <td>0.486256</td>\n",
       "      <td>0.352591</td>\n",
       "      <td>0.427361</td>\n",
       "      <td>0.913327</td>\n",
       "      <td>0.720762</td>\n",
       "      <td>0.484323</td>\n",
       "      <td>0.535114</td>\n",
       "      <td>0.266286</td>\n",
       "      <td>0.819594</td>\n",
       "      <td>...</td>\n",
       "      <td>0.061524</td>\n",
       "      <td>0.670289</td>\n",
       "      <td>0.478324</td>\n",
       "      <td>0.467078</td>\n",
       "      <td>0.809887</td>\n",
       "      <td>0.867867</td>\n",
       "      <td>0.642287</td>\n",
       "      <td>0.583485</td>\n",
       "      <td>0.865380</td>\n",
       "      <td>0.864694</td>\n",
       "    </tr>\n",
       "    <tr>\n",
       "      <th>9993943017_R04C02</th>\n",
       "      <td>0.079432</td>\n",
       "      <td>0.445756</td>\n",
       "      <td>0.789767</td>\n",
       "      <td>0.570244</td>\n",
       "      <td>0.837710</td>\n",
       "      <td>0.218656</td>\n",
       "      <td>0.302884</td>\n",
       "      <td>0.661226</td>\n",
       "      <td>0.326385</td>\n",
       "      <td>0.817745</td>\n",
       "      <td>...</td>\n",
       "      <td>0.044401</td>\n",
       "      <td>0.408273</td>\n",
       "      <td>0.727590</td>\n",
       "      <td>0.559788</td>\n",
       "      <td>0.910760</td>\n",
       "      <td>0.746987</td>\n",
       "      <td>0.413313</td>\n",
       "      <td>0.767292</td>\n",
       "      <td>0.848849</td>\n",
       "      <td>0.871472</td>\n",
       "    </tr>\n",
       "    <tr>\n",
       "      <th>7796806090_R03C01</th>\n",
       "      <td>0.056591</td>\n",
       "      <td>0.854925</td>\n",
       "      <td>0.496990</td>\n",
       "      <td>0.185658</td>\n",
       "      <td>0.882997</td>\n",
       "      <td>0.061131</td>\n",
       "      <td>0.026978</td>\n",
       "      <td>0.659007</td>\n",
       "      <td>0.429860</td>\n",
       "      <td>0.613741</td>\n",
       "      <td>...</td>\n",
       "      <td>0.024281</td>\n",
       "      <td>0.458832</td>\n",
       "      <td>0.648874</td>\n",
       "      <td>0.380753</td>\n",
       "      <td>0.772982</td>\n",
       "      <td>0.680736</td>\n",
       "      <td>0.818467</td>\n",
       "      <td>0.505687</td>\n",
       "      <td>0.859446</td>\n",
       "      <td>0.842765</td>\n",
       "    </tr>\n",
       "    <tr>\n",
       "      <th>3999997079_R01C02</th>\n",
       "      <td>0.053748</td>\n",
       "      <td>0.178044</td>\n",
       "      <td>0.853712</td>\n",
       "      <td>0.174643</td>\n",
       "      <td>0.885674</td>\n",
       "      <td>0.067699</td>\n",
       "      <td>0.559529</td>\n",
       "      <td>0.728681</td>\n",
       "      <td>0.143848</td>\n",
       "      <td>0.749181</td>\n",
       "      <td>...</td>\n",
       "      <td>0.036990</td>\n",
       "      <td>0.318999</td>\n",
       "      <td>0.757237</td>\n",
       "      <td>0.473694</td>\n",
       "      <td>0.719295</td>\n",
       "      <td>0.830167</td>\n",
       "      <td>0.351490</td>\n",
       "      <td>0.192757</td>\n",
       "      <td>0.834724</td>\n",
       "      <td>0.857373</td>\n",
       "    </tr>\n",
       "  </tbody>\n",
       "</table>\n",
       "<p>5 rows × 300000 columns</p>\n",
       "</div>"
      ],
      "text/plain": [
       "                   cg00122254  cg07950803  cg06020352  cg00014104  cg04108240  \\\n",
       "7796806090_R04C01    0.046660    0.897248    0.652521    0.471406    0.775688   \n",
       "6285633051_R04C01    0.058873    0.486256    0.352591    0.427361    0.913327   \n",
       "9993943017_R04C02    0.079432    0.445756    0.789767    0.570244    0.837710   \n",
       "7796806090_R03C01    0.056591    0.854925    0.496990    0.185658    0.882997   \n",
       "3999997079_R01C02    0.053748    0.178044    0.853712    0.174643    0.885674   \n",
       "\n",
       "                   cg19537719  cg11461670  cg26282887  cg18552413  cg05595753  \\\n",
       "7796806090_R04C01    0.495734    0.438540    0.510294    0.561539    0.768544   \n",
       "6285633051_R04C01    0.720762    0.484323    0.535114    0.266286    0.819594   \n",
       "9993943017_R04C02    0.218656    0.302884    0.661226    0.326385    0.817745   \n",
       "7796806090_R03C01    0.061131    0.026978    0.659007    0.429860    0.613741   \n",
       "3999997079_R01C02    0.067699    0.559529    0.728681    0.143848    0.749181   \n",
       "\n",
       "                      ...      cg22089024  cg23289779  cg01870834  cg00901843  \\\n",
       "7796806090_R04C01     ...        0.060164    0.723294    0.398821    0.503005   \n",
       "6285633051_R04C01     ...        0.061524    0.670289    0.478324    0.467078   \n",
       "9993943017_R04C02     ...        0.044401    0.408273    0.727590    0.559788   \n",
       "7796806090_R03C01     ...        0.024281    0.458832    0.648874    0.380753   \n",
       "3999997079_R01C02     ...        0.036990    0.318999    0.757237    0.473694   \n",
       "\n",
       "                   cg25934198  cg13688262  cg14428878  cg18131582  cg12917938  \\\n",
       "7796806090_R04C01    0.702736    0.774951    0.841170    0.559773    0.806210   \n",
       "6285633051_R04C01    0.809887    0.867867    0.642287    0.583485    0.865380   \n",
       "9993943017_R04C02    0.910760    0.746987    0.413313    0.767292    0.848849   \n",
       "7796806090_R03C01    0.772982    0.680736    0.818467    0.505687    0.859446   \n",
       "3999997079_R01C02    0.719295    0.830167    0.351490    0.192757    0.834724   \n",
       "\n",
       "                   cg06904956  \n",
       "7796806090_R04C01    0.840528  \n",
       "6285633051_R04C01    0.864694  \n",
       "9993943017_R04C02    0.871472  \n",
       "7796806090_R03C01    0.842765  \n",
       "3999997079_R01C02    0.857373  \n",
       "\n",
       "[5 rows x 300000 columns]"
      ]
     },
     "execution_count": 10,
     "metadata": {},
     "output_type": "execute_result"
    }
   ],
   "source": [
    "# Reduce the data size for model testing\n",
    "methyl_df2 = methyl_df.sample(original_dim, axis=1) # this is not correct when real training happens\n",
    "print(methyl_df2.shape)\n",
    "methyl_df2.head(5)"
   ]
  },
  {
   "cell_type": "code",
   "execution_count": 25,
   "metadata": {},
   "outputs": [],
   "source": [
    "# Split 10% test set randomly\n",
    "test_set_percent = 0.1\n",
    "methyl_test_df = methyl_df2.sample(frac=test_set_percent)\n",
    "methyl_train_df = methyl_df2.drop(methyl_test_df.index)"
   ]
  },
  {
   "cell_type": "markdown",
   "metadata": {},
   "source": [
    "# Encoder"
   ]
  },
  {
   "cell_type": "code",
   "execution_count": 26,
   "metadata": {},
   "outputs": [],
   "source": [
    "# Input place holder for methylation data with specific input size\n",
    "methyl_input = Input(shape=(original_dim, ))\n",
    "\n",
    "# Input layer is compressed into a mean and log variance vector of size `latent_dim`\n",
    "# Each layer is initialized with glorot uniform weights and each step (dense connections, batch norm,\n",
    "# and relu activation) are funneled separately\n",
    "# Each vector of length `latent_dim` are connected to the methyl input tensor\n",
    "z_mean_dense_linear = Dense(latent_dim, kernel_initializer='glorot_uniform')(methyl_input)\n",
    "z_mean_dense_batchnorm = BatchNormalization()(z_mean_dense_linear)\n",
    "z_mean_encoded = Activation('relu')(z_mean_dense_batchnorm)\n",
    "\n",
    "z_log_var_dense_linear = Dense(latent_dim, kernel_initializer='glorot_uniform')(methyl_input)\n",
    "z_log_var_dense_batchnorm = BatchNormalization()(z_log_var_dense_linear)\n",
    "z_log_var_encoded = Activation('relu')(z_log_var_dense_batchnorm)\n",
    "\n",
    "# return the encoded and randomly sampled z vector\n",
    "# Takes two keras layers as input to the custom sampling function layer with a `latent_dim` output\n",
    "z = Lambda(sampling, output_shape=(latent_dim, ))([z_mean_encoded, z_log_var_encoded])"
   ]
  },
  {
   "cell_type": "markdown",
   "metadata": {
    "collapsed": true
   },
   "source": [
    "# Decoder"
   ]
  },
  {
   "cell_type": "code",
   "execution_count": 27,
   "metadata": {
    "collapsed": true
   },
   "outputs": [],
   "source": [
    "# The decoding layer is much simpler with a single layer glorot uniform initialized and sigmoid activation\n",
    "decoder_to_reconstruct = Dense(original_dim, kernel_initializer='glorot_uniform', activation='sigmoid')\n",
    "methyl_reconstruct = decoder_to_reconstruct(z)"
   ]
  },
  {
   "cell_type": "markdown",
   "metadata": {},
   "source": [
    "# Encoder + Decoder = VAE"
   ]
  },
  {
   "cell_type": "code",
   "execution_count": 28,
   "metadata": {},
   "outputs": [
    {
     "name": "stdout",
     "output_type": "stream",
     "text": [
      "__________________________________________________________________________________________________\n",
      "Layer (type)                    Output Shape         Param #     Connected to                     \n",
      "==================================================================================================\n",
      "input_2 (InputLayer)            (None, 300000)       0                                            \n",
      "__________________________________________________________________________________________________\n",
      "dense_4 (Dense)                 (None, 100)          30000100    input_2[0][0]                    \n",
      "__________________________________________________________________________________________________\n",
      "dense_5 (Dense)                 (None, 100)          30000100    input_2[0][0]                    \n",
      "__________________________________________________________________________________________________\n",
      "batch_normalization_3 (BatchNor (None, 100)          400         dense_4[0][0]                    \n",
      "__________________________________________________________________________________________________\n",
      "batch_normalization_4 (BatchNor (None, 100)          400         dense_5[0][0]                    \n",
      "__________________________________________________________________________________________________\n",
      "activation_3 (Activation)       (None, 100)          0           batch_normalization_3[0][0]      \n",
      "__________________________________________________________________________________________________\n",
      "activation_4 (Activation)       (None, 100)          0           batch_normalization_4[0][0]      \n",
      "__________________________________________________________________________________________________\n",
      "lambda_2 (Lambda)               (None, 100)          0           activation_3[0][0]               \n",
      "                                                                 activation_4[0][0]               \n",
      "__________________________________________________________________________________________________\n",
      "dense_6 (Dense)                 (None, 300000)       30300000    lambda_2[0][0]                   \n",
      "__________________________________________________________________________________________________\n",
      "custom_variational_layer_2 (Cus [(None, 300000), (No 0           input_2[0][0]                    \n",
      "                                                                 dense_6[0][0]                    \n",
      "==================================================================================================\n",
      "Total params: 90,301,000\n",
      "Trainable params: 90,300,600\n",
      "Non-trainable params: 400\n",
      "__________________________________________________________________________________________________\n"
     ]
    },
    {
     "name": "stderr",
     "output_type": "stream",
     "text": [
      "C:\\Users\\atitus\\Anaconda3\\lib\\site-packages\\ipykernel_launcher.py:4: UserWarning: Output \"custom_variational_layer_2\" missing from loss dictionary. We assume this was done on purpose, and we will not be expecting any data to be passed to \"custom_variational_layer_2\" during training.\n",
      "  after removing the cwd from sys.path.\n"
     ]
    }
   ],
   "source": [
    "adam = optimizers.Adam(lr=learning_rate)\n",
    "vae_layer = CustomVariationalLayer()([methyl_input, methyl_reconstruct])\n",
    "vae = Model(methyl_input, vae_layer)\n",
    "vae.compile(optimizer=adam, loss=None, loss_weights=[beta])\n",
    "\n",
    "vae.summary()"
   ]
  },
  {
   "cell_type": "code",
   "execution_count": null,
   "metadata": {},
   "outputs": [],
   "source": [
    "# Visualize the connections of the custom VAE model\n",
    "output_model_file = os.path.join('figures', 'onehidden_vae_architecture.eps')\n",
    "plot_model(vae, to_file=output_model_file)\n",
    "\n",
    "SVG(model_to_dot(vae).create(prog='dot', format='svg'))"
   ]
  },
  {
   "cell_type": "markdown",
   "metadata": {},
   "source": [
    "# Train the model"
   ]
  },
  {
   "cell_type": "code",
   "execution_count": 31,
   "metadata": {},
   "outputs": [
    {
     "ename": "ValueError",
     "evalue": "('Error when checking model target: expected no data, but got:', array([[ 0.04718657,  0.31942012,  0.38992802, ...,  0.32655131,\n         0.82943113,  0.73441446],\n       [ 0.05041634,  0.34271969,  0.32455843, ...,  0.30275036,\n         0.86375403,  0.8398657 ],\n       [ 0.04155864,  0.75096933,  0.59812643, ...,  0.61685033,\n         0.84417232,  0.77617824],\n       ..., \n       [ 0.03657787,  0.67409893,  0.86944148, ...,  0.59576797,\n         0.83839262,  0.84944336],\n       [ 0.18353168,  0.54157474,  0.51040877, ...,  0.70044608,\n         0.87131508,  0.86471962],\n       [ 0.04911838,  0.7653641 ,  0.73652679, ...,  0.56094994,\n         0.84675028,  0.91277298]]))",
     "output_type": "error",
     "traceback": [
      "\u001b[1;31m---------------------------------------------------------------------------\u001b[0m",
      "\u001b[1;31mValueError\u001b[0m                                Traceback (most recent call last)",
      "\u001b[1;32m<timed exec>\u001b[0m in \u001b[0;36m<module>\u001b[1;34m()\u001b[0m\n",
      "\u001b[1;32m~\\Anaconda3\\lib\\site-packages\\keras\\engine\\training.py\u001b[0m in \u001b[0;36mfit\u001b[1;34m(self, x, y, batch_size, epochs, verbose, callbacks, validation_split, validation_data, shuffle, class_weight, sample_weight, initial_epoch, steps_per_epoch, validation_steps, **kwargs)\u001b[0m\n\u001b[0;32m   1655\u001b[0m                 \u001b[0mval_x\u001b[0m\u001b[1;33m,\u001b[0m \u001b[0mval_y\u001b[0m\u001b[1;33m,\u001b[0m\u001b[1;33m\u001b[0m\u001b[0m\n\u001b[0;32m   1656\u001b[0m                 \u001b[0msample_weight\u001b[0m\u001b[1;33m=\u001b[0m\u001b[0mval_sample_weight\u001b[0m\u001b[1;33m,\u001b[0m\u001b[1;33m\u001b[0m\u001b[0m\n\u001b[1;32m-> 1657\u001b[1;33m                 batch_size=batch_size)\n\u001b[0m\u001b[0;32m   1658\u001b[0m             \u001b[1;32mif\u001b[0m \u001b[0mself\u001b[0m\u001b[1;33m.\u001b[0m\u001b[0muses_learning_phase\u001b[0m \u001b[1;32mand\u001b[0m \u001b[1;32mnot\u001b[0m \u001b[0misinstance\u001b[0m\u001b[1;33m(\u001b[0m\u001b[0mK\u001b[0m\u001b[1;33m.\u001b[0m\u001b[0mlearning_phase\u001b[0m\u001b[1;33m(\u001b[0m\u001b[1;33m)\u001b[0m\u001b[1;33m,\u001b[0m \u001b[0mint\u001b[0m\u001b[1;33m)\u001b[0m\u001b[1;33m:\u001b[0m\u001b[1;33m\u001b[0m\u001b[0m\n\u001b[0;32m   1659\u001b[0m                 \u001b[0mval_ins\u001b[0m \u001b[1;33m=\u001b[0m \u001b[0mval_x\u001b[0m \u001b[1;33m+\u001b[0m \u001b[0mval_y\u001b[0m \u001b[1;33m+\u001b[0m \u001b[0mval_sample_weights\u001b[0m \u001b[1;33m+\u001b[0m \u001b[1;33m[\u001b[0m\u001b[1;36m0.\u001b[0m\u001b[1;33m]\u001b[0m\u001b[1;33m\u001b[0m\u001b[0m\n",
      "\u001b[1;32m~\\Anaconda3\\lib\\site-packages\\keras\\engine\\training.py\u001b[0m in \u001b[0;36m_standardize_user_data\u001b[1;34m(self, x, y, sample_weight, class_weight, check_array_lengths, batch_size)\u001b[0m\n\u001b[0;32m   1485\u001b[0m                                     \u001b[0moutput_shapes\u001b[0m\u001b[1;33m,\u001b[0m\u001b[1;33m\u001b[0m\u001b[0m\n\u001b[0;32m   1486\u001b[0m                                     \u001b[0mcheck_batch_axis\u001b[0m\u001b[1;33m=\u001b[0m\u001b[1;32mFalse\u001b[0m\u001b[1;33m,\u001b[0m\u001b[1;33m\u001b[0m\u001b[0m\n\u001b[1;32m-> 1487\u001b[1;33m                                     exception_prefix='target')\n\u001b[0m\u001b[0;32m   1488\u001b[0m         sample_weights = _standardize_sample_weights(sample_weight,\n\u001b[0;32m   1489\u001b[0m                                                      self._feed_output_names)\n",
      "\u001b[1;32m~\\Anaconda3\\lib\\site-packages\\keras\\engine\\training.py\u001b[0m in \u001b[0;36m_standardize_input_data\u001b[1;34m(data, names, shapes, check_batch_axis, exception_prefix)\u001b[0m\n\u001b[0;32m     54\u001b[0m             raise ValueError('Error when checking model ' +\n\u001b[0;32m     55\u001b[0m                              \u001b[0mexception_prefix\u001b[0m \u001b[1;33m+\u001b[0m \u001b[1;34m': '\u001b[0m\u001b[1;33m\u001b[0m\u001b[0m\n\u001b[1;32m---> 56\u001b[1;33m                              'expected no data, but got:', data)\n\u001b[0m\u001b[0;32m     57\u001b[0m         \u001b[1;32mreturn\u001b[0m \u001b[1;33m[\u001b[0m\u001b[1;33m]\u001b[0m\u001b[1;33m\u001b[0m\u001b[0m\n\u001b[0;32m     58\u001b[0m     \u001b[1;32mif\u001b[0m \u001b[0mdata\u001b[0m \u001b[1;32mis\u001b[0m \u001b[1;32mNone\u001b[0m\u001b[1;33m:\u001b[0m\u001b[1;33m\u001b[0m\u001b[0m\n",
      "\u001b[1;31mValueError\u001b[0m: ('Error when checking model target: expected no data, but got:', array([[ 0.04718657,  0.31942012,  0.38992802, ...,  0.32655131,\n         0.82943113,  0.73441446],\n       [ 0.05041634,  0.34271969,  0.32455843, ...,  0.30275036,\n         0.86375403,  0.8398657 ],\n       [ 0.04155864,  0.75096933,  0.59812643, ...,  0.61685033,\n         0.84417232,  0.77617824],\n       ..., \n       [ 0.03657787,  0.67409893,  0.86944148, ...,  0.59576797,\n         0.83839262,  0.84944336],\n       [ 0.18353168,  0.54157474,  0.51040877, ...,  0.70044608,\n         0.87131508,  0.86471962],\n       [ 0.04911838,  0.7653641 ,  0.73652679, ...,  0.56094994,\n         0.84675028,  0.91277298]]))"
     ]
    }
   ],
   "source": [
    "%%time\n",
    "hist = vae.fit(np.array(methyl_train_df),\n",
    "               shuffle=True,\n",
    "               epochs=epochs,\n",
    "               batch_size=batch_size,\n",
    "               validation_data=(np.array(methyl_test_df), np.array(methyl_test_df)),\n",
    "               callbacks=[WarmUpCallback(beta, kappa)])"
   ]
  },
  {
   "cell_type": "code",
   "execution_count": 18,
   "metadata": {},
   "outputs": [
    {
     "data": {
      "image/png": "[encoded data removed]",
      "text/plain": [
       "<matplotlib.figure.Figure at 0x7f2c31a77b38>"
      ]
     },
     "metadata": {},
     "output_type": "display_data"
    }
   ],
   "source": [
    "# Visualize training performance\n",
    "history_df = pd.DataFrame(hist.history)\n",
    "hist_plot_file = os.path.join('figures', 'onehidden_vae_training_300K-100.pdf') \n",
    "#hist_plot_file = os.path.join('figures', 'onehidden_vae_training_30K-1000.pdf') \n",
    "#hist_plot_file = os.path.join('figures', 'onehidden_vae_training_100K-10.pdf')\n",
    "#hist_plot_file = os.path.join('figures', 'onehidden_vae_training_100K-100.pdf')\n",
    "#hist_plot_file = os.path.join('figures', 'onehidden_vae_training_10K-100.pdf')\n",
    "ax = history_df.plot()\n",
    "ax.set_xlabel('Epochs')\n",
    "ax.set_ylabel('VAE Loss')\n",
    "fig = ax.get_figure()\n",
    "fig.savefig(hist_plot_file)"
   ]
  },
  {
   "cell_type": "markdown",
   "metadata": {},
   "source": [
    "# Compile and output models"
   ]
  },
  {
   "cell_type": "markdown",
   "metadata": {},
   "source": [
    "## Encoder"
   ]
  },
  {
   "cell_type": "code",
   "execution_count": 19,
   "metadata": {
    "collapsed": true
   },
   "outputs": [],
   "source": [
    "# Model to compress input\n",
    "encoder = Model(methyl_input, z_mean_encoded)"
   ]
  },
  {
   "cell_type": "code",
   "execution_count": 20,
   "metadata": {
    "collapsed": true
   },
   "outputs": [],
   "source": [
    "# Encode methyl into the hidden/latent representation - and save output\n",
    "encoded_methyl_df = encoder.predict_on_batch(methyl_df2)\n",
    "encoded_methyl_df = pd.DataFrame(encoded_methyl_df, index=methyl_df2.index)\n",
    "\n",
    "encoded_methyl_df.columns.name = 'sample_id'\n",
    "encoded_methyl_df.columns = encoded_methyl_df.columns + 1\n",
    "#encoded_file = os.path.join('data', 'encoded_methyl_onehidden_warmup_batchnorm_100K-10.tsv')\n",
    "#encoded_file = os.path.join('data', 'encoded_methyl_onehidden_warmup_batchnorm_100K-100.tsv')\n",
    "#encoded_file = os.path.join('data', 'encoded_methyl_onehidden_warmup_batchnorm_10K-100.tsv')\n",
    "#encoded_file = os.path.join('data', 'encoded_methyl_onehidden_warmup_batchnorm_300K-1000.tsv')\n",
    "encoded_file = os.path.join('data', 'encoded_methyl_onehidden_warmup_batchnorm_300K-100.tsv')\n",
    "encoded_methyl_df.to_csv(encoded_file, sep='\\t')"
   ]
  },
  {
   "cell_type": "code",
   "execution_count": 21,
   "metadata": {},
   "outputs": [
    {
     "name": "stdout",
     "output_type": "stream",
     "text": [
      "sample_id\n",
      "72    2689.523682\n",
      "19    2261.734619\n",
      "3     2233.960938\n",
      "52    2158.137939\n",
      "76    1944.653687\n",
      "66    1915.777466\n",
      "78    1817.843872\n",
      "55    1793.530273\n",
      "39    1703.847656\n",
      "64    1642.765991\n",
      "dtype: float32\n"
     ]
    },
    {
     "data": {
      "text/plain": [
       "sample_id\n",
       "88    98.864792\n",
       "43    89.600433\n",
       "40    73.793655\n",
       "25    70.327644\n",
       "93    68.710793\n",
       "97    66.469162\n",
       "51    40.531780\n",
       "89    37.308762\n",
       "45    21.683561\n",
       "42    19.556742\n",
       "dtype: float32"
      ]
     },
     "execution_count": 21,
     "metadata": {},
     "output_type": "execute_result"
    }
   ],
   "source": [
    "# What are the most and least activated nodes\n",
    "top_active_nodes = encoded_methyl_df.sum(axis=0).sort_values(ascending=False)\n",
    "print(top_active_nodes.head(10))\n",
    "top_active_nodes.tail(10)"
   ]
  },
  {
   "cell_type": "code",
   "execution_count": 24,
   "metadata": {},
   "outputs": [
    {
     "data": {
      "text/plain": [
       "<matplotlib.collections.PathCollection at 0x7f2bc46cd1d0>"
      ]
     },
     "execution_count": 24,
     "metadata": {},
     "output_type": "execute_result"
    },
    {
     "data": {
      "image/png": "[encoded data removed]",
      "text/plain": [
       "<matplotlib.figure.Figure at 0x7f2b847db358>"
      ]
     },
     "metadata": {},
     "output_type": "display_data"
    }
   ],
   "source": [
    "# Example distribution of latent layer\n",
    "plt.figure(figsize=(6, 6))\n",
    "plt.scatter(encoded_methyl_df.iloc[:, 50], encoded_methyl_df.iloc[:, 8])"
   ]
  },
  {
   "cell_type": "markdown",
   "metadata": {},
   "source": [
    "## Decoder"
   ]
  },
  {
   "cell_type": "code",
   "execution_count": 25,
   "metadata": {
    "collapsed": true
   },
   "outputs": [],
   "source": [
    "# build a generator that can sample from the learned distribution\n",
    "decoder_input = Input(shape=(latent_dim, ))  # can generate from any sampled z vector\n",
    "_x_decoded_mean = decoder_to_reconstruct(decoder_input)\n",
    "decoder = Model(decoder_input, _x_decoded_mean)"
   ]
  },
  {
   "cell_type": "code",
   "execution_count": 26,
   "metadata": {},
   "outputs": [
    {
     "data": {
      "text/html": [
       "<div>\n",
       "<table border=\"1\" class=\"dataframe\">\n",
       "  <thead>\n",
       "    <tr style=\"text-align: right;\">\n",
       "      <th></th>\n",
       "      <th>cg05609218</th>\n",
       "      <th>cg22931085</th>\n",
       "      <th>cg17251874</th>\n",
       "      <th>cg15207619</th>\n",
       "      <th>cg18069268</th>\n",
       "      <th>cg11787508</th>\n",
       "      <th>cg13337949</th>\n",
       "      <th>cg04485516</th>\n",
       "      <th>cg01828530</th>\n",
       "      <th>cg09648722</th>\n",
       "      <th>...</th>\n",
       "      <th>ch.9.1173620F</th>\n",
       "      <th>cg04300684</th>\n",
       "      <th>cg16770054</th>\n",
       "      <th>cg18900959</th>\n",
       "      <th>cg14847845</th>\n",
       "      <th>cg23107916</th>\n",
       "      <th>cg16751754</th>\n",
       "      <th>cg15457745</th>\n",
       "      <th>cg00849943</th>\n",
       "      <th>cg17289222</th>\n",
       "    </tr>\n",
       "  </thead>\n",
       "  <tbody>\n",
       "    <tr>\n",
       "      <th>7796806090_R04C01</th>\n",
       "      <td>0.672033</td>\n",
       "      <td>0.876269</td>\n",
       "      <td>0.767542</td>\n",
       "      <td>0.123064</td>\n",
       "      <td>0.973082</td>\n",
       "      <td>0.764291</td>\n",
       "      <td>0.045026</td>\n",
       "      <td>0.967063</td>\n",
       "      <td>0.780857</td>\n",
       "      <td>0.039814</td>\n",
       "      <td>...</td>\n",
       "      <td>0.037846</td>\n",
       "      <td>0.606236</td>\n",
       "      <td>0.931593</td>\n",
       "      <td>0.926697</td>\n",
       "      <td>0.860495</td>\n",
       "      <td>0.698333</td>\n",
       "      <td>0.932990</td>\n",
       "      <td>0.022119</td>\n",
       "      <td>0.015452</td>\n",
       "      <td>0.980561</td>\n",
       "    </tr>\n",
       "    <tr>\n",
       "      <th>6285633051_R04C01</th>\n",
       "      <td>0.729906</td>\n",
       "      <td>0.843547</td>\n",
       "      <td>0.671565</td>\n",
       "      <td>0.059589</td>\n",
       "      <td>0.977977</td>\n",
       "      <td>0.790845</td>\n",
       "      <td>0.022084</td>\n",
       "      <td>0.983528</td>\n",
       "      <td>0.836831</td>\n",
       "      <td>0.024214</td>\n",
       "      <td>...</td>\n",
       "      <td>0.022224</td>\n",
       "      <td>0.636163</td>\n",
       "      <td>0.962394</td>\n",
       "      <td>0.942780</td>\n",
       "      <td>0.848625</td>\n",
       "      <td>0.553571</td>\n",
       "      <td>0.961438</td>\n",
       "      <td>0.012269</td>\n",
       "      <td>0.008690</td>\n",
       "      <td>0.993206</td>\n",
       "    </tr>\n",
       "    <tr>\n",
       "      <th>9993943017_R04C02</th>\n",
       "      <td>0.693098</td>\n",
       "      <td>0.843114</td>\n",
       "      <td>0.466781</td>\n",
       "      <td>0.036274</td>\n",
       "      <td>0.960945</td>\n",
       "      <td>0.771037</td>\n",
       "      <td>0.029470</td>\n",
       "      <td>0.975914</td>\n",
       "      <td>0.902240</td>\n",
       "      <td>0.032599</td>\n",
       "      <td>...</td>\n",
       "      <td>0.041737</td>\n",
       "      <td>0.697151</td>\n",
       "      <td>0.967159</td>\n",
       "      <td>0.921050</td>\n",
       "      <td>0.807059</td>\n",
       "      <td>0.539523</td>\n",
       "      <td>0.965884</td>\n",
       "      <td>0.018012</td>\n",
       "      <td>0.019237</td>\n",
       "      <td>0.994381</td>\n",
       "    </tr>\n",
       "  </tbody>\n",
       "</table>\n",
       "<p>3 rows × 300000 columns</p>\n",
       "</div>"
      ],
      "text/plain": [
       "                   cg05609218  cg22931085  cg17251874  cg15207619  cg18069268  \\\n",
       "7796806090_R04C01    0.672033    0.876269    0.767542    0.123064    0.973082   \n",
       "6285633051_R04C01    0.729906    0.843547    0.671565    0.059589    0.977977   \n",
       "9993943017_R04C02    0.693098    0.843114    0.466781    0.036274    0.960945   \n",
       "\n",
       "                   cg11787508  cg13337949  cg04485516  cg01828530  cg09648722  \\\n",
       "7796806090_R04C01    0.764291    0.045026    0.967063    0.780857    0.039814   \n",
       "6285633051_R04C01    0.790845    0.022084    0.983528    0.836831    0.024214   \n",
       "9993943017_R04C02    0.771037    0.029470    0.975914    0.902240    0.032599   \n",
       "\n",
       "                      ...      ch.9.1173620F  cg04300684  cg16770054  \\\n",
       "7796806090_R04C01     ...           0.037846    0.606236    0.931593   \n",
       "6285633051_R04C01     ...           0.022224    0.636163    0.962394   \n",
       "9993943017_R04C02     ...           0.041737    0.697151    0.967159   \n",
       "\n",
       "                   cg18900959  cg14847845  cg23107916  cg16751754  cg15457745  \\\n",
       "7796806090_R04C01    0.926697    0.860495    0.698333    0.932990    0.022119   \n",
       "6285633051_R04C01    0.942780    0.848625    0.553571    0.961438    0.012269   \n",
       "9993943017_R04C02    0.921050    0.807059    0.539523    0.965884    0.018012   \n",
       "\n",
       "                   cg00849943  cg17289222  \n",
       "7796806090_R04C01    0.015452    0.980561  \n",
       "6285633051_R04C01    0.008690    0.993206  \n",
       "9993943017_R04C02    0.019237    0.994381  \n",
       "\n",
       "[3 rows x 300000 columns]"
      ]
     },
     "execution_count": 26,
     "metadata": {},
     "output_type": "execute_result"
    }
   ],
   "source": [
    "# How well does the model reconstruct the input Methylation data\n",
    "input_methyl_reconstruct = decoder.predict(np.array(encoded_methyl_df))\n",
    "input_methyl_reconstruct = pd.DataFrame(input_methyl_reconstruct, index=methyl_df2.index,\n",
    "                                        columns=methyl_df2.columns)\n",
    "input_methyl_reconstruct.head(3)"
   ]
  },
  {
   "cell_type": "code",
   "execution_count": 27,
   "metadata": {},
   "outputs": [
    {
     "name": "stdout",
     "output_type": "stream",
     "text": [
      "(862, 300000)\n"
     ]
    },
    {
     "data": {
      "text/html": [
       "<div>\n",
       "<table border=\"1\" class=\"dataframe\">\n",
       "  <thead>\n",
       "    <tr style=\"text-align: right;\">\n",
       "      <th></th>\n",
       "      <th>cg05609218</th>\n",
       "      <th>cg22931085</th>\n",
       "      <th>cg17251874</th>\n",
       "      <th>cg15207619</th>\n",
       "      <th>cg18069268</th>\n",
       "      <th>cg11787508</th>\n",
       "      <th>cg13337949</th>\n",
       "      <th>cg04485516</th>\n",
       "      <th>cg01828530</th>\n",
       "      <th>cg09648722</th>\n",
       "      <th>...</th>\n",
       "      <th>ch.9.1173620F</th>\n",
       "      <th>cg04300684</th>\n",
       "      <th>cg16770054</th>\n",
       "      <th>cg18900959</th>\n",
       "      <th>cg14847845</th>\n",
       "      <th>cg23107916</th>\n",
       "      <th>cg16751754</th>\n",
       "      <th>cg15457745</th>\n",
       "      <th>cg00849943</th>\n",
       "      <th>cg17289222</th>\n",
       "    </tr>\n",
       "  </thead>\n",
       "  <tbody>\n",
       "    <tr>\n",
       "      <th>7796806090_R04C01</th>\n",
       "      <td>0.545441</td>\n",
       "      <td>0.853057</td>\n",
       "      <td>0.649835</td>\n",
       "      <td>0.259499</td>\n",
       "      <td>0.938481</td>\n",
       "      <td>0.526505</td>\n",
       "      <td>0.128962</td>\n",
       "      <td>0.884376</td>\n",
       "      <td>0.770399</td>\n",
       "      <td>0.100277</td>\n",
       "      <td>...</td>\n",
       "      <td>0.087824</td>\n",
       "      <td>0.487777</td>\n",
       "      <td>0.875961</td>\n",
       "      <td>0.873091</td>\n",
       "      <td>0.874440</td>\n",
       "      <td>0.653986</td>\n",
       "      <td>0.917380</td>\n",
       "      <td>0.047611</td>\n",
       "      <td>0.044446</td>\n",
       "      <td>0.699034</td>\n",
       "    </tr>\n",
       "    <tr>\n",
       "      <th>6285633051_R04C01</th>\n",
       "      <td>0.664495</td>\n",
       "      <td>0.821738</td>\n",
       "      <td>0.551126</td>\n",
       "      <td>0.240213</td>\n",
       "      <td>0.934988</td>\n",
       "      <td>0.462401</td>\n",
       "      <td>0.070426</td>\n",
       "      <td>0.943853</td>\n",
       "      <td>0.624185</td>\n",
       "      <td>0.087996</td>\n",
       "      <td>...</td>\n",
       "      <td>0.103713</td>\n",
       "      <td>0.509940</td>\n",
       "      <td>0.838878</td>\n",
       "      <td>0.896937</td>\n",
       "      <td>0.679916</td>\n",
       "      <td>0.429626</td>\n",
       "      <td>0.762457</td>\n",
       "      <td>0.037634</td>\n",
       "      <td>0.033631</td>\n",
       "      <td>0.976383</td>\n",
       "    </tr>\n",
       "    <tr>\n",
       "      <th>9993943017_R04C02</th>\n",
       "      <td>0.592440</td>\n",
       "      <td>0.777425</td>\n",
       "      <td>0.292605</td>\n",
       "      <td>0.178106</td>\n",
       "      <td>0.571350</td>\n",
       "      <td>0.886400</td>\n",
       "      <td>0.125322</td>\n",
       "      <td>0.867190</td>\n",
       "      <td>0.750185</td>\n",
       "      <td>0.094839</td>\n",
       "      <td>...</td>\n",
       "      <td>0.157848</td>\n",
       "      <td>0.600940</td>\n",
       "      <td>0.918040</td>\n",
       "      <td>0.833179</td>\n",
       "      <td>0.676394</td>\n",
       "      <td>0.380983</td>\n",
       "      <td>0.903616</td>\n",
       "      <td>0.041686</td>\n",
       "      <td>0.049972</td>\n",
       "      <td>0.901056</td>\n",
       "    </tr>\n",
       "  </tbody>\n",
       "</table>\n",
       "<p>3 rows × 300000 columns</p>\n",
       "</div>"
      ],
      "text/plain": [
       "                   cg05609218  cg22931085  cg17251874  cg15207619  cg18069268  \\\n",
       "7796806090_R04C01    0.545441    0.853057    0.649835    0.259499    0.938481   \n",
       "6285633051_R04C01    0.664495    0.821738    0.551126    0.240213    0.934988   \n",
       "9993943017_R04C02    0.592440    0.777425    0.292605    0.178106    0.571350   \n",
       "\n",
       "                   cg11787508  cg13337949  cg04485516  cg01828530  cg09648722  \\\n",
       "7796806090_R04C01    0.526505    0.128962    0.884376    0.770399    0.100277   \n",
       "6285633051_R04C01    0.462401    0.070426    0.943853    0.624185    0.087996   \n",
       "9993943017_R04C02    0.886400    0.125322    0.867190    0.750185    0.094839   \n",
       "\n",
       "                      ...      ch.9.1173620F  cg04300684  cg16770054  \\\n",
       "7796806090_R04C01     ...           0.087824    0.487777    0.875961   \n",
       "6285633051_R04C01     ...           0.103713    0.509940    0.838878   \n",
       "9993943017_R04C02     ...           0.157848    0.600940    0.918040   \n",
       "\n",
       "                   cg18900959  cg14847845  cg23107916  cg16751754  cg15457745  \\\n",
       "7796806090_R04C01    0.873091    0.874440    0.653986    0.917380    0.047611   \n",
       "6285633051_R04C01    0.896937    0.679916    0.429626    0.762457    0.037634   \n",
       "9993943017_R04C02    0.833179    0.676394    0.380983    0.903616    0.041686   \n",
       "\n",
       "                   cg00849943  cg17289222  \n",
       "7796806090_R04C01    0.044446    0.699034  \n",
       "6285633051_R04C01    0.033631    0.976383  \n",
       "9993943017_R04C02    0.049972    0.901056  \n",
       "\n",
       "[3 rows x 300000 columns]"
      ]
     },
     "execution_count": 27,
     "metadata": {},
     "output_type": "execute_result"
    }
   ],
   "source": [
    "print(methyl_df2.shape)\n",
    "methyl_df2.head(3)"
   ]
  },
  {
   "cell_type": "code",
   "execution_count": null,
   "metadata": {
    "collapsed": true
   },
   "outputs": [],
   "source": [
    "#methylation_out_file = os.path.join('data', 'TCGA_BRCA_30kgenerated_cpg.tsv')\n",
    "methylation_out_file = os.path.join('data', 'TCGA_BRCA_300kgenerated_cpg_100latent.tsv')\n",
    "methyl_df2.to_csv(methylation_out_file, sep='\\t')"
   ]
  },
  {
   "cell_type": "code",
   "execution_count": null,
   "metadata": {
    "collapsed": true
   },
   "outputs": [],
   "source": [
    "#encoder_model_file = os.path.join('models', 'encoder_onehidden_vae_100K-10.hdf5')\n",
    "#decoder_model_file = os.path.join('models', 'decoder_onehidden_vae_100K-10.hdf5')\n",
    "\n",
    "#encoder_model_file = os.path.join('models', 'encoder_onehidden_vae_100K-100.hdf5')\n",
    "#decoder_model_file = os.path.join('models', 'decoder_onehidden_vae_100K-100.hdf5')\n",
    "\n",
    "#encoder_model_file = os.path.join('models', 'encoder_onehidden_vae_10K-100.hdf5')\n",
    "#decoder_model_file = os.path.join('models', 'decoder_onehidden_vae_10K-100.hdf5')\n",
    "\n",
    "#encoder_model_file = os.path.join('models', 'encoder_onehidden_vae_30K-1000.hdf5')\n",
    "#decoder_model_file = os.path.join('models', 'decoder_onehidden_vae_30K-1000.hdf5')\n",
    "\n",
    "#encoder_model_file = os.path.join('models', 'encoder_onehidden_vae_300K-1000.hdf5')\n",
    "#decoder_model_file = os.path.join('models', 'decoder_onehidden_vae_300K-1000.hdf5')\n",
    "\n",
    "encoder_model_file = os.path.join('models', 'encoder_onehidden_vae_300K-100.hdf5')\n",
    "decoder_model_file = os.path.join('models', 'decoder_onehidden_vae_300K-100.hdf5')\n",
    "\n",
    "encoder.save(encoder_model_file)\n",
    "decoder.save(decoder_model_file)"
   ]
  },
  {
   "cell_type": "code",
   "execution_count": null,
   "metadata": {
    "collapsed": true
   },
   "outputs": [],
   "source": []
  }
 ],
 "metadata": {
  "kernelspec": {
   "display_name": "Python 3",
   "language": "python",
   "name": "python3"
  },
  "language_info": {
   "codemirror_mode": {
    "name": "ipython",
    "version": 3
   },
   "file_extension": ".py",
   "mimetype": "text/x-python",
   "name": "python",
   "nbconvert_exporter": "python",
   "pygments_lexer": "ipython3",
   "version": "3.6.3"
  }
 },
 "nbformat": 4,
 "nbformat_minor": 1
}
