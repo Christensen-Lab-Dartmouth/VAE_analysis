{
 "cells": [
  {
   "cell_type": "markdown",
   "metadata": {},
   "source": [
    "# tSNE"
   ]
  },
  {
   "cell_type": "code",
   "execution_count": 1,
   "metadata": {},
   "outputs": [],
   "source": [
    "import os\n",
    "import pandas as pd\n",
    "from sklearn import manifold"
   ]
  },
  {
   "cell_type": "code",
   "execution_count": 3,
   "metadata": {},
   "outputs": [
    {
     "data": {
      "text/html": [
       "<div>\n",
       "<style scoped>\n",
       "    .dataframe tbody tr th:only-of-type {\n",
       "        vertical-align: middle;\n",
       "    }\n",
       "\n",
       "    .dataframe tbody tr th {\n",
       "        vertical-align: top;\n",
       "    }\n",
       "\n",
       "    .dataframe thead th {\n",
       "        text-align: right;\n",
       "    }\n",
       "</style>\n",
       "<table border=\"1\" class=\"dataframe\">\n",
       "  <thead>\n",
       "    <tr style=\"text-align: right;\">\n",
       "      <th></th>\n",
       "      <th>1</th>\n",
       "      <th>2</th>\n",
       "      <th>3</th>\n",
       "      <th>4</th>\n",
       "      <th>5</th>\n",
       "      <th>6</th>\n",
       "      <th>7</th>\n",
       "      <th>8</th>\n",
       "      <th>9</th>\n",
       "      <th>10</th>\n",
       "      <th>...</th>\n",
       "      <th>91</th>\n",
       "      <th>92</th>\n",
       "      <th>93</th>\n",
       "      <th>94</th>\n",
       "      <th>95</th>\n",
       "      <th>96</th>\n",
       "      <th>97</th>\n",
       "      <th>98</th>\n",
       "      <th>99</th>\n",
       "      <th>100</th>\n",
       "    </tr>\n",
       "  </thead>\n",
       "  <tbody>\n",
       "    <tr>\n",
       "      <th>GSM2861662</th>\n",
       "      <td>5.947526</td>\n",
       "      <td>34.375385</td>\n",
       "      <td>0.0</td>\n",
       "      <td>4.220823</td>\n",
       "      <td>0.000000</td>\n",
       "      <td>0.0</td>\n",
       "      <td>19.011850</td>\n",
       "      <td>42.665024</td>\n",
       "      <td>0.0</td>\n",
       "      <td>39.823257</td>\n",
       "      <td>...</td>\n",
       "      <td>15.687261</td>\n",
       "      <td>22.935846</td>\n",
       "      <td>0.0</td>\n",
       "      <td>15.642307</td>\n",
       "      <td>25.124189</td>\n",
       "      <td>18.726637</td>\n",
       "      <td>3.431563</td>\n",
       "      <td>1.38991</td>\n",
       "      <td>0.0</td>\n",
       "      <td>17.812031</td>\n",
       "    </tr>\n",
       "    <tr>\n",
       "      <th>GSM2861663</th>\n",
       "      <td>10.959908</td>\n",
       "      <td>35.264423</td>\n",
       "      <td>0.0</td>\n",
       "      <td>4.886783</td>\n",
       "      <td>3.399594</td>\n",
       "      <td>0.0</td>\n",
       "      <td>19.096769</td>\n",
       "      <td>38.699020</td>\n",
       "      <td>0.0</td>\n",
       "      <td>40.593483</td>\n",
       "      <td>...</td>\n",
       "      <td>17.086105</td>\n",
       "      <td>18.846109</td>\n",
       "      <td>0.0</td>\n",
       "      <td>10.880091</td>\n",
       "      <td>29.817781</td>\n",
       "      <td>14.119362</td>\n",
       "      <td>0.000000</td>\n",
       "      <td>0.00000</td>\n",
       "      <td>0.0</td>\n",
       "      <td>16.979128</td>\n",
       "    </tr>\n",
       "  </tbody>\n",
       "</table>\n",
       "<p>2 rows × 100 columns</p>\n",
       "</div>"
      ],
      "text/plain": [
       "                    1          2    3         4         5    6          7  \\\n",
       "GSM2861662   5.947526  34.375385  0.0  4.220823  0.000000  0.0  19.011850   \n",
       "GSM2861663  10.959908  35.264423  0.0  4.886783  3.399594  0.0  19.096769   \n",
       "\n",
       "                    8    9         10    ...             91         92   93  \\\n",
       "GSM2861662  42.665024  0.0  39.823257    ...      15.687261  22.935846  0.0   \n",
       "GSM2861663  38.699020  0.0  40.593483    ...      17.086105  18.846109  0.0   \n",
       "\n",
       "                   94         95         96        97       98   99        100  \n",
       "GSM2861662  15.642307  25.124189  18.726637  3.431563  1.38991  0.0  17.812031  \n",
       "GSM2861663  10.880091  29.817781  14.119362  0.000000  0.00000  0.0  16.979128  \n",
       "\n",
       "[2 rows x 100 columns]"
      ]
     },
     "execution_count": 3,
     "metadata": {},
     "output_type": "execute_result"
    }
   ],
   "source": [
    "# Load VAE feature activations per sample\n",
    "encoded_file = os.path.join('data', 'encoded_methyl_onehidden_warmup_batchnorm_300K-100.tsv')\n",
    "encoded_df = pd.read_table(encoded_file, index_col=0)\n",
    "encoded_df.head(2)"
   ]
  },
  {
   "cell_type": "code",
   "execution_count": 4,
   "metadata": {},
   "outputs": [
    {
     "name": "stdout",
     "output_type": "stream",
     "text": [
      "(16, 300000)\n"
     ]
    }
   ],
   "source": [
    "# Load Zero-One transformed (min-max scaled) methylation data\n",
    "methyl_file = os.path.join('data', 'test_data_top300kMAD_cpg.tsv')\n",
    "methyl_df = pd.read_table(methyl_file, index_col=0)\n",
    "print(methyl_df.shape)\n",
    "methyl_df.head(2)\n",
    "methyl_df2 = methyl_df"
   ]
  },
  {
   "cell_type": "code",
   "execution_count": 6,
   "metadata": {},
   "outputs": [
    {
     "data": {
      "text/html": [
       "<div>\n",
       "<style scoped>\n",
       "    .dataframe tbody tr th:only-of-type {\n",
       "        vertical-align: middle;\n",
       "    }\n",
       "\n",
       "    .dataframe tbody tr th {\n",
       "        vertical-align: top;\n",
       "    }\n",
       "\n",
       "    .dataframe thead th {\n",
       "        text-align: right;\n",
       "    }\n",
       "</style>\n",
       "<table border=\"1\" class=\"dataframe\">\n",
       "  <thead>\n",
       "    <tr style=\"text-align: right;\">\n",
       "      <th></th>\n",
       "      <th>1</th>\n",
       "      <th>2</th>\n",
       "      <th>3</th>\n",
       "    </tr>\n",
       "    <tr>\n",
       "      <th>sample_id</th>\n",
       "      <th></th>\n",
       "      <th></th>\n",
       "      <th></th>\n",
       "    </tr>\n",
       "  </thead>\n",
       "  <tbody>\n",
       "    <tr>\n",
       "      <th>GSM2861662</th>\n",
       "      <td>-606.308777</td>\n",
       "      <td>378.625427</td>\n",
       "      <td>-177.605759</td>\n",
       "    </tr>\n",
       "    <tr>\n",
       "      <th>GSM2861663</th>\n",
       "      <td>161.546326</td>\n",
       "      <td>-18.507435</td>\n",
       "      <td>-168.542801</td>\n",
       "    </tr>\n",
       "  </tbody>\n",
       "</table>\n",
       "</div>"
      ],
      "text/plain": [
       "                     1           2           3\n",
       "sample_id                                     \n",
       "GSM2861662 -606.308777  378.625427 -177.605759\n",
       "GSM2861663  161.546326  -18.507435 -168.542801"
      ]
     },
     "execution_count": 6,
     "metadata": {},
     "output_type": "execute_result"
    }
   ],
   "source": [
    "# Perform t-SNE on VAE encoded_features\n",
    "tsne = manifold.TSNE(n_components=3, init='pca', random_state=0, perplexity=20,\n",
    "                     learning_rate=300, n_iter=400)\n",
    "tsne_out = tsne.fit_transform(encoded_df)\n",
    "tsne_out = pd.DataFrame(tsne_out, columns=['1', '2', '3'])\n",
    "tsne_out.index = encoded_df.index\n",
    "tsne_out.index.name = 'sample_id'\n",
    "#tsne_out_file = os.path.join('results', 'vae_tsne_out_100K-10.tsv')\n",
    "#tsne_out_file = os.path.join('results', 'vae_tsne_out_100K-100.tsv')\n",
    "#tsne_out_file = os.path.join('results', 'vae_tsne_out_10K-100.tsv')\n",
    "#tsne_out_file = os.path.join('results', 'vae_tsne_out_300K-1000_2d.tsv')\n",
    "#tsne_out_file = os.path.join('results', 'vae_tsne_out_300K-1000_3d.tsv')\n",
    "#tsne_out_file = os.path.join('results', 'vae_tsne_out_300K-100_2d.tsv')\n",
    "tsne_out_file = os.path.join('results', 'vae_tsne_out_300K-100_3d.tsv')\n",
    "tsne_out.to_csv(tsne_out_file, sep='\\t')\n",
    "tsne_out.head(2)"
   ]
  },
  {
   "cell_type": "code",
   "execution_count": 7,
   "metadata": {},
   "outputs": [
    {
     "data": {
      "text/html": [
       "<div>\n",
       "<style scoped>\n",
       "    .dataframe tbody tr th:only-of-type {\n",
       "        vertical-align: middle;\n",
       "    }\n",
       "\n",
       "    .dataframe tbody tr th {\n",
       "        vertical-align: top;\n",
       "    }\n",
       "\n",
       "    .dataframe thead th {\n",
       "        text-align: right;\n",
       "    }\n",
       "</style>\n",
       "<table border=\"1\" class=\"dataframe\">\n",
       "  <thead>\n",
       "    <tr style=\"text-align: right;\">\n",
       "      <th></th>\n",
       "      <th>1</th>\n",
       "      <th>2</th>\n",
       "    </tr>\n",
       "    <tr>\n",
       "      <th>sample_id</th>\n",
       "      <th></th>\n",
       "      <th></th>\n",
       "    </tr>\n",
       "  </thead>\n",
       "  <tbody>\n",
       "    <tr>\n",
       "      <th>GSM2861662</th>\n",
       "      <td>354.174744</td>\n",
       "      <td>-56.613831</td>\n",
       "    </tr>\n",
       "    <tr>\n",
       "      <th>GSM2861663</th>\n",
       "      <td>-432.072754</td>\n",
       "      <td>328.182068</td>\n",
       "    </tr>\n",
       "  </tbody>\n",
       "</table>\n",
       "</div>"
      ],
      "text/plain": [
       "                     1           2\n",
       "sample_id                         \n",
       "GSM2861662  354.174744  -56.613831\n",
       "GSM2861663 -432.072754  328.182068"
      ]
     },
     "execution_count": 7,
     "metadata": {},
     "output_type": "execute_result"
    }
   ],
   "source": [
    "# Perform t-SNE on methyl features\n",
    "tsne = manifold.TSNE(n_components=2, init='pca', random_state=0, perplexity=20,\n",
    "                     learning_rate=300, n_iter=400)\n",
    "tsne_out = tsne.fit_transform(methyl_df2)\n",
    "tsne_out = pd.DataFrame(tsne_out, columns=['1', '2'])\n",
    "tsne_out.index = methyl_df2.index\n",
    "tsne_out.index.name = 'sample_id'\n",
    "#tsne_out_file = os.path.join('results', 'methyl_tsne_out_100K.tsv')\n",
    "tsne_out_file = os.path.join('results', 'methyl_tsne_out_300K.tsv')\n",
    "tsne_out.to_csv(tsne_out_file, sep='\\t')\n",
    "tsne_out.head(2)"
   ]
  },
  {
   "cell_type": "code",
   "execution_count": null,
   "metadata": {
    "collapsed": true
   },
   "outputs": [],
   "source": []
  }
 ],
 "metadata": {
  "kernelspec": {
   "display_name": "Python 3",
   "language": "python",
   "name": "python3"
  },
  "language_info": {
   "codemirror_mode": {
    "name": "ipython",
    "version": 3
   },
   "file_extension": ".py",
   "mimetype": "text/x-python",
   "name": "python",
   "nbconvert_exporter": "python",
   "pygments_lexer": "ipython3",
   "version": "3.6.3"
  }
 },
 "nbformat": 4,
 "nbformat_minor": 2
}
